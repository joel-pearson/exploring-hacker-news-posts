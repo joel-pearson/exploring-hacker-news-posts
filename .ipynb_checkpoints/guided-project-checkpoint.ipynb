{
 "cells": [
  {
   "cell_type": "markdown",
   "id": "ddc5cfb1",
   "metadata": {},
   "source": [
    "## Exploring Hacker News Posts\n",
    "\n",
    "Hacker News is a site started by the startup incubator Y Combinator, where user-submitted stories (known as \"posts\") receive votes and comments, similar to reddit. Hacker News is extremely popular in technology and startup circles, and posts that make it to the top of the Hacker News listings can get hundreds of thousands of visitors as a result.\n",
    "\n",
    "For the analysis, we are specifically interested in posts with titles that begin with either *'Ask HN'* or *'Show HN'*. Users submit *'Ask HN'* posts to ask the Hacker News community a specific question. Likewise, users submit *'Show HN'* posts to show the Hacker News community a project, product, or just something interesting.\n",
    "\n",
    "In this project we'll compare these two types of posts to determine the following:\n",
    "- Do *Ask HN* or *Show HN* recieve more comments on average?\n",
    "- Do posts created at a certain time recieve more comments on average?\n",
    "\n",
    "---"
   ]
  },
  {
   "cell_type": "code",
   "execution_count": 1,
   "id": "d42e01ec",
   "metadata": {},
   "outputs": [
    {
     "name": "stdout",
     "output_type": "stream",
     "text": [
      "Column headers: ['id', 'title', 'url', 'num_points', 'num_comments', 'author', 'created_at']\n",
      "Number of rows: 20100\n"
     ]
    }
   ],
   "source": [
    "from csv import reader\n",
    "\n",
    "# read dataset\n",
    "opened_file = open('data/hacker_news.csv', encoding='utf8')\n",
    "read_file = reader(opened_file)\n",
    "list_file = list(read_file)\n",
    "hn_headers = list_file[0]\n",
    "hn = list_file[1:]\n",
    "\n",
    "print('Column headers:', hn_headers)\n",
    "print('Number of rows:', len(hn))"
   ]
  },
  {
   "cell_type": "markdown",
   "id": "383f6264",
   "metadata": {},
   "source": [
    "---\n",
    "\n",
    "Now we must filter our data in order to conduct our analysis on *'ask HN'* and *'show HN'* posts. Seeing as we can determine the type of post based on whether the start of the title contains either *'ask HN'* or *'show HN'*, we can create new lists containing just the data for those titles.\n",
    "\n",
    "---"
   ]
  },
  {
   "cell_type": "code",
   "execution_count": 2,
   "id": "10efb666",
   "metadata": {},
   "outputs": [
    {
     "name": "stdout",
     "output_type": "stream",
     "text": [
      "ask_posts: 1744\n",
      "show_posts: 1162\n",
      "other: 17194\n"
     ]
    }
   ],
   "source": [
    "# splitting rows based on whether they are 'ask' or 'show'\n",
    "ask_posts = []\n",
    "show_posts = []\n",
    "other_posts = []\n",
    "for i in hn:\n",
    "    title = i[1]\n",
    "    if title.lower().startswith('ask hn'):\n",
    "        ask_posts.append(i)\n",
    "    elif title.lower().startswith('show hn'):\n",
    "        show_posts.append(i)\n",
    "    else:\n",
    "        other_posts.append(i)\n",
    "\n",
    "# number of posts in each list\n",
    "print('ask_posts:', len(ask_posts))\n",
    "print('show_posts:', len(show_posts))\n",
    "print('other:', len(other_posts))"
   ]
  },
  {
   "cell_type": "markdown",
   "id": "4de96fba",
   "metadata": {},
   "source": [
    "---\n",
    "\n",
    "Now we want to calculate the average number of comments per post type. This will give us a general insight into which type of post gets more comments. \n",
    "\n",
    "---"
   ]
  },
  {
   "cell_type": "code",
   "execution_count": 3,
   "id": "14ef360a",
   "metadata": {},
   "outputs": [
    {
     "name": "stdout",
     "output_type": "stream",
     "text": [
      "average number of 'ask hn' comments: 14.038417431192661\n",
      "average number of 'showhn' comments: 10.31669535283993\n"
     ]
    }
   ],
   "source": [
    "# calculate average number of comments for 'ask hn' posts\n",
    "total_ask_comments = 0\n",
    "for i in ask_posts:\n",
    "    num_comments = int(i[4])\n",
    "    total_ask_comments = total_ask_comments + num_comments    \n",
    "avg_ask_comments = total_ask_comments / len(ask_posts)\n",
    "\n",
    "# calculate average number of comments for 'show hn' posts\n",
    "total_show_comments = 0\n",
    "for i in show_posts:\n",
    "    num_comments = int(i[4])\n",
    "    total_show_comments = total_show_comments + num_comments\n",
    "avg_show_comments = total_show_comments / len(show_posts)\n",
    "\n",
    "print('average number of \\'ask hn\\' comments:', avg_ask_comments)\n",
    "print('average number of \\'showhn\\' comments:', avg_show_comments)"
   ]
  },
  {
   "cell_type": "markdown",
   "id": "3db53e29",
   "metadata": {},
   "source": [
    "---\n",
    "\n",
    "On average, *'ask hn'* posts recieve 4 more comments per posts than *'show hn'* posts. Since *ask* posts are more likely to receive comments, we'll focus our remaining analysis just on these posts. \n",
    "\n",
    "Next, we'll determine if *ask* posts created at a certain time are more likely to attract comments.\n",
    "\n",
    "---"
   ]
  },
  {
   "cell_type": "code",
   "execution_count": 4,
   "id": "b3afe7e0",
   "metadata": {},
   "outputs": [],
   "source": [
    "import datetime as dt\n",
    "\n",
    "result_list = []\n",
    "for i in ask_posts:\n",
    "    created = dt.datetime.strptime(i[6], '%m/%d/%Y %H:%M')\n",
    "    num_comments = int(i[4])\n",
    "    result_list.append([created, num_comments])\n",
    "\n",
    "# Calculate the number of ask posts created in each hour of the day, along with the number of comments received.\n",
    "counts_by_hour = {}\n",
    "comments_by_hour = {}\n",
    "for i in result_list:\n",
    "    hour = i[0].hour\n",
    "    num_comments = i[1]\n",
    "    if hour in counts_by_hour:\n",
    "        counts_by_hour[hour] += 1\n",
    "        comments_by_hour[hour] += num_comments\n",
    "    else:\n",
    "        counts_by_hour[hour] = 1\n",
    "        comments_by_hour[hour] = num_comments\n",
    "        \n",
    "# Calculate the average number of comments ask posts receive by hour created.\n",
    "avg_by_hour = []\n",
    "for i in comments_by_hour:\n",
    "    avg = round(comments_by_hour[i] / counts_by_hour[i], 2)\n",
    "    avg_by_hour.append([avg, i])"
   ]
  },
  {
   "cell_type": "code",
   "execution_count": 5,
   "id": "f1666713",
   "metadata": {},
   "outputs": [
    {
     "name": "stdout",
     "output_type": "stream",
     "text": [
      "Top 5 Hours for Ask Post Comments\n",
      "15:00 38.59 average comments per post\n",
      "2:00 23.81 average comments per post\n",
      "20:00 21.52 average comments per post\n",
      "16:00 16.80 average comments per post\n",
      "21:00 16.01 average comments per post\n"
     ]
    }
   ],
   "source": [
    "sorted_avg = sorted(avg_by_hour, reverse=True)\n",
    "\n",
    "# print the top five hours with the highest number of average comments\n",
    "print('Top 5 Hours for Ask Post Comments')\n",
    "for i in sorted_avg[:5]:\n",
    "    print('{}:00 {:.2f} average comments per post'.format(i[1], i[0]))"
   ]
  },
  {
   "cell_type": "markdown",
   "id": "d37cabe9",
   "metadata": {},
   "source": [
    "---\n",
    "\n",
    "As shown by the output of the code above, the top five hours to create a post that will have a greater chance of recieving comments are: 15:00, 02:00, 20:00, 16:00, 21:00 (in order or highest to lowest).\n",
    "\n",
    "---"
   ]
  }
 ],
 "metadata": {
  "kernelspec": {
   "display_name": "Python 3",
   "language": "python",
   "name": "python3"
  },
  "language_info": {
   "codemirror_mode": {
    "name": "ipython",
    "version": 3
   },
   "file_extension": ".py",
   "mimetype": "text/x-python",
   "name": "python",
   "nbconvert_exporter": "python",
   "pygments_lexer": "ipython3",
   "version": "3.8.11"
  }
 },
 "nbformat": 4,
 "nbformat_minor": 5
}
