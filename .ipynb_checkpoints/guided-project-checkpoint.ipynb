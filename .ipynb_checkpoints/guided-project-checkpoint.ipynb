{
 "cells": [
  {
   "cell_type": "markdown",
   "id": "df6071d4",
   "metadata": {},
   "source": [
    "## Exploring Hacker News Posts\n",
    "\n",
    "Hacker News is a site started by the startup incubator Y Combinator, where user-submitted stories (known as \"posts\") receive votes and comments, similar to reddit. Hacker News is extremely popular in technology and startup circles, and posts that make it to the top of the Hacker News listings can get hundreds of thousands of visitors as a result.\n",
    "\n",
    "For the analysis, we are specifically interested in posts with titles that begin with either *Ask HN* or *Show HN*. Users submit *Ask HN* posts to ask the Hacker News community a specific question. Likewise, users submit *Show HN* posts to show the Hacker News community a project, product, or just something interesting.\n",
    "\n",
    "In this project we'll compare these two types of posts to determine the following:\n",
    "- Do *Ask HN* or *Show HN* recieve more comments on average?\n",
    "- Do posts created at a certain time recieve more comments on average?\n",
    "\n",
    "---"
   ]
  },
  {
   "cell_type": "code",
   "execution_count": 1,
   "id": "471d0f81",
   "metadata": {},
   "outputs": [
    {
     "name": "stdout",
     "output_type": "stream",
     "text": [
      "['id', 'title', 'url', 'num_points', 'num_comments', 'author', 'created_at']\n",
      "20100\n"
     ]
    }
   ],
   "source": [
    "from csv import reader\n",
    "\n",
    "# read dataset\n",
    "opened_file = open('data/hacker_news.csv', encoding='utf8')\n",
    "read_file = reader(opened_file)\n",
    "list_file = list(read_file)\n",
    "hn_headers = list_file[0]\n",
    "hn = list_file[1:]\n",
    "\n",
    "print(hn_headers)\n",
    "print(len(hn))"
   ]
  }
 ],
 "metadata": {
  "kernelspec": {
   "display_name": "Python 3",
   "language": "python",
   "name": "python3"
  },
  "language_info": {
   "codemirror_mode": {
    "name": "ipython",
    "version": 3
   },
   "file_extension": ".py",
   "mimetype": "text/x-python",
   "name": "python",
   "nbconvert_exporter": "python",
   "pygments_lexer": "ipython3",
   "version": "3.8.11"
  }
 },
 "nbformat": 4,
 "nbformat_minor": 5
}
